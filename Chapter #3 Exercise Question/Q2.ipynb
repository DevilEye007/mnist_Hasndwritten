{
 "cells": [
  {
   "cell_type": "code",
   "execution_count": 5,
   "id": "7fe3a15f",
   "metadata": {},
   "outputs": [],
   "source": [
    "# 📦 Cell 1: Load MNIST dataset\n",
    "from sklearn.datasets import fetch_openml\n",
    "from sklearn.model_selection import train_test_split\n",
    "import numpy as np\n",
    "\n",
    "# Load MNIST data\n",
    "mnist = fetch_openml('mnist_784', version=1, as_frame=False)\n",
    "X, y = mnist[\"data\"], mnist[\"target\"].astype('int')\n",
    "\n",
    "# Split into train and test\n",
    "X_train, X_test, y_train, y_test = train_test_split(X, y, test_size=10000, random_state=42)\n"
   ]
  },
  {
   "cell_type": "code",
   "execution_count": 7,
   "id": "323ce731",
   "metadata": {},
   "outputs": [],
   "source": [
    "# 🧠 Cell 2: Define the image shifting function\n",
    "from scipy.ndimage import shift\n",
    "\n",
    "def shift_image(image, dx, dy):\n",
    "    \"\"\"Shifts a 28x28 MNIST image by dx (left/right) and dy (up/down).\"\"\"\n",
    "    image = image.reshape(28, 28)\n",
    "    shifted = shift(image, [dy, dx], cval=0, mode='constant')  # [dy, dx]\n",
    "    return shifted.reshape(-1)\n"
   ]
  },
  {
   "cell_type": "code",
   "execution_count": 8,
   "id": "b4c67185",
   "metadata": {},
   "outputs": [
    {
     "name": "stdout",
     "output_type": "stream",
     "text": [
      "Original training set size: 60000\n",
      "Augmented training set size: 300000\n"
     ]
    }
   ],
   "source": [
    "# 🔁 Cell 3: Augment the training set with shifted images\n",
    "X_train_augmented = []\n",
    "y_train_augmented = []\n",
    "\n",
    "for image, label in zip(X_train, y_train):\n",
    "    X_train_augmented.append(image)\n",
    "    y_train_augmented.append(label)\n",
    "    \n",
    "    # Four directions: left, right, up, down\n",
    "    for dx, dy in [(-1, 0), (1, 0), (0, -1), (0, 1)]:\n",
    "        shifted_img = shift_image(image, dx, dy)\n",
    "        X_train_augmented.append(shifted_img)\n",
    "        y_train_augmented.append(label)\n",
    "\n",
    "X_train_augmented = np.array(X_train_augmented)\n",
    "y_train_augmented = np.array(y_train_augmented)\n",
    "\n",
    "print(\"Original training set size:\", len(X_train))\n",
    "print(\"Augmented training set size:\", len(X_train_augmented))\n"
   ]
  },
  {
   "cell_type": "code",
   "execution_count": 9,
   "id": "78b5205b",
   "metadata": {},
   "outputs": [
    {
     "name": "stdout",
     "output_type": "stream",
     "text": [
      "Test accuracy after augmentation: 0.979\n"
     ]
    }
   ],
   "source": [
    "# 🤖 Cell 4: Train the best model on the augmented data\n",
    "from sklearn.neighbors import KNeighborsClassifier\n",
    "from sklearn.metrics import accuracy_score\n",
    "\n",
    "# Use best params from previous exercise\n",
    "knn = KNeighborsClassifier(n_neighbors=4, weights='distance')\n",
    "knn.fit(X_train_augmented, y_train_augmented)\n",
    "\n",
    "# Predict and evaluate on test set\n",
    "y_pred = knn.predict(X_test)\n",
    "accuracy = accuracy_score(y_test, y_pred)\n",
    "\n",
    "print(\"Test accuracy after augmentation:\", accuracy)\n"
   ]
  },
  {
   "cell_type": "code",
   "execution_count": 10,
   "id": "036dd7ea",
   "metadata": {},
   "outputs": [
    {
     "data": {
      "image/png": "[encoded data removed]",
      "text/plain": [
       "<Figure size 1000x200 with 5 Axes>"
      ]
     },
     "metadata": {},
     "output_type": "display_data"
    }
   ],
   "source": [
    "# 👀 Cell 5: Optional - Visualize original and shifted image\n",
    "import matplotlib.pyplot as plt\n",
    "\n",
    "index = 0\n",
    "original = X_train[index].reshape(28, 28)\n",
    "shifted_left = shift_image(X_train[index], -1, 0).reshape(28, 28)\n",
    "shifted_right = shift_image(X_train[index], 1, 0).reshape(28, 28)\n",
    "shifted_up = shift_image(X_train[index], 0, -1).reshape(28, 28)\n",
    "shifted_down = shift_image(X_train[index], 0, 1).reshape(28, 28)\n",
    "\n",
    "plt.figure(figsize=(10, 2))\n",
    "plt.subplot(1, 5, 1)\n",
    "plt.title(\"Original\")\n",
    "plt.imshow(original, cmap='gray')\n",
    "\n",
    "plt.subplot(1, 5, 2)\n",
    "plt.title(\"Left\")\n",
    "plt.imshow(shifted_left, cmap='gray')\n",
    "\n",
    "plt.subplot(1, 5, 3)\n",
    "plt.title(\"Right\")\n",
    "plt.imshow(shifted_right, cmap='gray')\n",
    "\n",
    "plt.subplot(1, 5, 4)\n",
    "plt.title(\"Up\")\n",
    "plt.imshow(shifted_up, cmap='gray')\n",
    "\n",
    "plt.subplot(1, 5, 5)\n",
    "plt.title(\"Down\")\n",
    "plt.imshow(shifted_down, cmap='gray')\n",
    "plt.show()\n"
   ]
  }
 ],
 "metadata": {
  "kernelspec": {
   "display_name": "Python 3",
   "language": "python",
   "name": "python3"
  },
  "language_info": {
   "codemirror_mode": {
    "name": "ipython",
    "version": 3
   },
   "file_extension": ".py",
   "mimetype": "text/x-python",
   "name": "python",
   "nbconvert_exporter": "python",
   "pygments_lexer": "ipython3",
   "version": "3.11.9"
  }
 },
 "nbformat": 4,
 "nbformat_minor": 5
}
